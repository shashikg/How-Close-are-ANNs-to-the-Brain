{
  "cells": [
    {
      "metadata": {
        "_uuid": "8f2839f25d086af736a60e9eeb907d3b93b6e0e5",
        "_cell_guid": "b1076dfc-b9ad-4769-8c92-a6c4dae69d19",
        "trusted": true
      },
      "cell_type": "code",
      "source": "import keras\nfrom keras.datasets import mnist\nfrom keras.models import Sequential\nfrom keras.layers import Dense, Dropout, Flatten, BatchNormalization\nfrom keras.layers import Conv2D, MaxPooling2D\nfrom keras import backend as K\nimport matplotlib.pyplot as plt\nimport numpy as np\n\n\nbatch_size = 32\nnum_classes = 10\nepochs = 12\n# input image dimensions\nimg_rows, img_cols = 28, 28\n\n# the data, split between train and test sets\n(x_train, y_train), (x_test, y_test) = mnist.load_data()\n\nx_train = x_train.reshape(x_train.shape[0], img_rows, img_cols, 1)\nx_test = x_test.reshape(x_test.shape[0], img_rows, img_cols, 1)\ninput_shape = (img_rows, img_cols, 1)\n\nx_train = x_train.astype('float32')\nx_test = x_test.astype('float32')\nx_train /= 255\nx_test /= 255\nprint('x_train shape:', x_train.shape)\nprint(x_train.shape[0], 'train samples')\nprint(x_test.shape[0], 'test samples')\n\n# convert class vectors to binary class matrices\ny_train = keras.utils.to_categorical(y_train, num_classes)\ny_test = keras.utils.to_categorical(y_test, num_classes)\n",
      "execution_count": null,
      "outputs": []
    },
    {
      "metadata": {
        "trusted": true,
        "_uuid": "80f7311c1e5fe7e319c500182639021fe66bc0cf"
      },
      "cell_type": "code",
      "source": "def plotGraph(history):\n    plt.plot(history.history['acc'])\n    plt.plot(history.history['val_acc'])\n    plt.title('model accuracy')\n    plt.ylabel('accuracy')\n    plt.xlabel('epoch')\n    plt.legend(['train', 'test'])\n    plt.show()\n    # plt.savefig(\"model_accuracy.png\")\n\n    # summarize history for loss\n    plt.plot(history.history['loss'])\n    plt.plot(history.history['val_loss'])\n    plt.title('model loss')\n    plt.ylabel('loss')\n    plt.xlabel('epoch')\n    plt.legend(['train', 'test'])\n    plt.show()",
      "execution_count": null,
      "outputs": []
    },
    {
      "metadata": {
        "trusted": true,
        "_uuid": "5135f861c366a3a3948c363f854c4a1b080cb7dc"
      },
      "cell_type": "code",
      "source": "def CNN1():\n    model = Sequential()\n    model.add(Conv2D(32, kernel_size=(3, 3),\n                     activation='relu',\n                     input_shape=input_shape))\n    model.add(Conv2D(64, (3, 3), activation='relu'))\n    model.add(MaxPooling2D(pool_size=(2, 2)))\n    model.add(Conv2D(128, (5, 5), activation='relu'))\n    model.add(MaxPooling2D(pool_size=(2, 2)))\n    model.add(Conv2D(64, (3, 3), activation='relu'))\n    model.add(MaxPooling2D(pool_size=(2, 2)))\n    model.add(Dropout(0.20))\n    model.add(Flatten())\n    model.add(Dense(128, activation='relu'))\n    model.add(Dropout(0.50))\n    model.add(Dense(num_classes, activation='softmax'))\n    model.compile(loss=keras.losses.categorical_crossentropy,\n                  optimizer=keras.optimizers.Adadelta(),\n                  metrics=['accuracy'])\n    return model\n\ndef CNN2():\n    model = Sequential()\n    model.add(Conv2D(32, kernel_size=(3, 3),\n                     activation='relu',\n                     input_shape=input_shape))\n    model.add(Conv2D(64, (3, 3), activation='relu'))\n    model.add(MaxPooling2D(pool_size=(2, 2)))\n    model.add(Conv2D(128, (5, 5), activation='relu'))\n    model.add(MaxPooling2D(pool_size=(2, 2)))\n#     model.add(Conv2D(64, (3, 3), activation='relu'))\n#     model.add(MaxPooling2D(pool_size=(2, 2)))\n    model.add(Dropout(0.20))\n    model.add(Flatten())\n    model.add(Dense(128, activation='relu'))\n    model.add(Dropout(0.50))\n    model.add(Dense(num_classes, activation='softmax'))\n    model.compile(loss=keras.losses.categorical_crossentropy,\n                  optimizer=keras.optimizers.Adadelta(),\n                  metrics=['accuracy'])\n    return model\n\ndef CNN3():\n    model = Sequential()\n    model.add(Conv2D(32, kernel_size=(3, 3),\n                     activation='relu',\n                     input_shape=input_shape))\n#     model.add(Conv2D(64, (3, 3), activation='relu'))\n#     model.add(MaxPooling2D(pool_size=(2, 2)))\n    model.add(Conv2D(128, (5, 5), activation='relu'))\n    model.add(MaxPooling2D(pool_size=(2, 2)))\n    model.add(Conv2D(128, (3, 3), activation='relu'))\n    model.add(MaxPooling2D(pool_size=(2, 2)))\n    model.add(Dropout(0.20))\n    model.add(Flatten())\n    model.add(Dense(128, activation='relu'))\n    model.add(Dropout(0.30))\n    model.add(Dense(num_classes, activation='softmax'))\n    model.compile(loss=keras.losses.categorical_crossentropy,\n                  optimizer=keras.optimizers.Adadelta(),\n                  metrics=['accuracy'])\n    return model\n\ndef CNN4():\n    model = Sequential()\n    model.add(Conv2D(32, kernel_size=(3, 3),\n                     activation='relu',\n                     input_shape=input_shape))\n    model.add(Conv2D(64, (3, 3), activation='relu'))\n    model.add(MaxPooling2D(pool_size=(2, 2)))\n    model.add(Conv2D(128, (5, 5), activation='relu'))\n    model.add(MaxPooling2D(pool_size=(2, 2)))\n    model.add(Conv2D(64, (3, 3), activation='relu'))\n    model.add(MaxPooling2D(pool_size=(2, 2)))\n    model.add(Dropout(0.20))\n    model.add(Flatten())\n    model.add(Dense(128, activation='relu'))\n#     model.add(Dropout(0.50))\n    model.add(Dense(num_classes, activation='softmax'))\n    model.compile(loss=keras.losses.categorical_crossentropy,\n                  optimizer=keras.optimizers.Adadelta(),\n                  metrics=['accuracy'])\n    return model",
      "execution_count": null,
      "outputs": []
    },
    {
      "metadata": {
        "_cell_guid": "79c7e3d0-c299-4dcb-8224-4455121ee9b0",
        "_uuid": "d629ff2d2480ee46fbb7e2d37f6b5fab8052498a",
        "trusted": true
      },
      "cell_type": "code",
      "source": "m = [CNN1(), CNN2(), CNN3(), CNN4()]\nmodel = []\n\n\nfor i in range(4):\n    print(\"Model No: \",i)\n    batch_size = 32\n    num_classes = 10\n    epochs = 12\n    \n#     m = MyCNNModel()\n\n    history = m[i].fit(x_train, y_train,\n              batch_size=batch_size,\n              epochs=epochs,\n              verbose=1,\n              validation_split = 0.02)\n    s = m[i].evaluate(x_test, y_test, verbose=0)\n\n    \n    print('Test loss:', s[0])\n    print('Test accuracy:', s[1])\n    plotGraph(history)\n    \n    model.append(m[i])\n    \n",
      "execution_count": null,
      "outputs": []
    },
    {
      "metadata": {
        "trusted": true,
        "_uuid": "56447f11e8079601122fcaeb176b9121445dd856"
      },
      "cell_type": "code",
      "source": "p_tr = []\np_te = []\n\nfor i, m in enumerate(model):\n    p = m.predict(x_train)\n    pt = m.predict(x_test)\n    p_tr.append(p)\n    p_te.append(pt)\n    m.save('cnn'+str(i)+'.h5')",
      "execution_count": null,
      "outputs": []
    },
    {
      "metadata": {
        "trusted": true,
        "_uuid": "b36b4a74aa8982e1ad006bf2ef1a026a148f5400"
      },
      "cell_type": "code",
      "source": "print(len(p_te[1]))",
      "execution_count": null,
      "outputs": []
    },
    {
      "metadata": {
        "trusted": true,
        "_uuid": "a7ad100f236b674aa088093c07572dfb00abbaeb"
      },
      "cell_type": "code",
      "source": "p_train = np.zeros((60000,40))\np_test = np.zeros((10000,40))\nfor i, p in enumerate(p_tr):\n    p_train[:,10*i:10*(i+1)] = p\n\nfor i, p in enumerate(p_te):\n    p_test[:,10*i:10*(i+1)] = p\n",
      "execution_count": null,
      "outputs": []
    },
    {
      "metadata": {
        "trusted": true,
        "_uuid": "77fca6011a9dd3d5ec94c916863aa906e33764c5"
      },
      "cell_type": "code",
      "source": "print(p_train.shape, p_test.shape)\nprint(p_train[1], p_test[1])",
      "execution_count": null,
      "outputs": []
    },
    {
      "metadata": {
        "trusted": true,
        "_uuid": "33c8638113bc4ee2d3564360b0c10cb0bf79de3d"
      },
      "cell_type": "code",
      "source": "batch_size = 32\nnum_classes = 10\nepochs = 5\n# print(p_train[1])\nmodele = Sequential()\nmodele.add(Dense(128, activation='relu', input_shape=(40,)))\n# model.add(Dropout(0.1))\n# model.add(Dense(512, activation='relu'))\n# model.add(Dropout(0.05))\nmodele.add(Dense(num_classes, activation='softmax'))\n\n\n\nmodele.compile(loss='categorical_crossentropy',\n              optimizer=keras.optimizers.Adadelta(),\n              metrics=['accuracy'])\n\nhistory = modele.fit(p_train, y_train,\n                    batch_size=batch_size,\n                    epochs=epochs,\n                    verbose=1,\n                    validation_data=(p_test, y_test))\n          \nscore = modele.evaluate(p_test, y_test, verbose=0)\n\nplotGraph(history)\n\nprint('NN Based Ensambled Model')\nprint('Test loss:', score[0])\nprint('Test accuracy:', score[1])",
      "execution_count": null,
      "outputs": []
    }
  ],
  "metadata": {
    "kernelspec": {
      "display_name": "Python 3",
      "language": "python",
      "name": "python3"
    },
    "language_info": {
      "name": "python",
      "version": "3.6.6",
      "mimetype": "text/x-python",
      "codemirror_mode": {
        "name": "ipython",
        "version": 3
      },
      "pygments_lexer": "ipython3",
      "nbconvert_exporter": "python",
      "file_extension": ".py"
    }
  },
  "nbformat": 4,
  "nbformat_minor": 1
}